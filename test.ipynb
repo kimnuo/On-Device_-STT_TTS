{
 "cells": [
  {
   "cell_type": "markdown",
   "metadata": {},
   "source": [
    "fast-whisper 테스트\n",
    "https://blog.naver.com/112fkdldjs/223513947371\n",
    "https://wikidocs.net/195820"
   ]
  },
  {
   "cell_type": "code",
   "execution_count": 2,
   "metadata": {},
   "outputs": [],
   "source": [
    "import os\n",
    "import pyaudio\n",
    "import numpy as np\n",
    "import wave\n",
    "import keyboard\n",
    "from pydub import AudioSegment\n",
    "from faster_whisper import WhisperModel"
   ]
  },
  {
   "cell_type": "markdown",
   "metadata": {},
   "source": [
    "기본 설정"
   ]
  },
  {
   "cell_type": "code",
   "execution_count": 3,
   "metadata": {},
   "outputs": [],
   "source": [
    "# 오디오 설정\n",
    "CHUNK = 1024  # 오디오 청크 크기\n",
    "FORMAT = pyaudio.paInt16  # 오디오 포맷\n",
    "CHANNELS = 1  # 오디오 채널 수\n",
    "RATE = 16000  # 샘플링 레이트\n",
    "THRESHOLD = 500  # 음성 인식 임계값\n",
    "\n",
    "INIT_SILENCE_DURATION_MS = 5000  # 최초 음성 감지 전 무음 시간 (5초 = 5000ms)\n",
    "POST_VOICE_SILENCE_DURATION_MS = 2000  # 음성 감지 후 무음 시간 (2초 = 2000ms)\n",
    "\n",
    "model_size = \"large-v3\"\n",
    "\n",
    "# Run on GPU with FP16\n",
    "#model = WhisperModel(model_size, device=\"cuda\", compute_type=\"float16\")\n",
    "# or run on GPU with INT8\n",
    "# model = WhisperModel(model_size, device=\"cuda\", compute_type=\"int8_float16\")\n",
    "# or run on CPU with INT8\n",
    "model = WhisperModel(model_size, device=\"cpu\", compute_type=\"int8\")"
   ]
  },
  {
   "cell_type": "code",
   "execution_count": 4,
   "metadata": {},
   "outputs": [
    {
     "name": "stdout",
     "output_type": "stream",
     "text": [
      "음성인식중입니다... (키보드를 누르면 종료)\n",
      "녹음 중단됨\n",
      "음성인식중입니다... (키보드를 누르면 종료)\n",
      "녹음 중단됨\n"
     ]
    }
   ],
   "source": [
    "# PyAudio 객체 생성\n",
    "p = pyaudio.PyAudio()\n",
    "# 스트림 생성\n",
    "stream = p.open(format=FORMAT,\n",
    "                channels=CHANNELS,\n",
    "                rate=RATE,\n",
    "                input=True,\n",
    "                frames_per_buffer=CHUNK)\n",
    "silent_chunks = 0  # 무음 구간을 측정할 변수\n",
    "voice_detected = False  # 음성이 감지되었는지 여부\n",
    "init_silent_chunks = int((INIT_SILENCE_DURATION_MS / 1000) * RATE / CHUNK)  # 최초 무음 구간 청크 수 계산\n",
    "post_voice_silent_chunks = int((POST_VOICE_SILENCE_DURATION_MS / 1000) * RATE / CHUNK)  # 음성 감지 후 무음 구간 청크 수 계산\n",
    "frames = []  # 녹음된 데이터를 저장할 리스트\n",
    "print(\"음성인식중입니다... (키보드를 누르면 종료)\")\n",
    "try:\n",
    "    while True:\n",
    "        if keyboard.is_pressed('q'):  # 'q' 키를 누르면 녹음 중단\n",
    "            print(\"녹음 중단됨 (키보드 입력)\")\n",
    "            break\n",
    "        data = stream.read(CHUNK)\n",
    "        frames.append(data)\n",
    "        \n",
    "        # 무음 감지를 위한 신호 에너지 계산\n",
    "        audio_data = np.frombuffer(data, dtype=np.int16)  # 데이터를 numpy 배열로 변환\n",
    "        signal_energy = np.abs(audio_data).mean()\n",
    "        if signal_energy < THRESHOLD: \n",
    "            silent_chunks += 1 # 음성 감지 안됨\n",
    "        else:\n",
    "            silent_chunks = 0  # 소리가 있으면 무음 구간 초기화\n",
    "            voice_detected = True  # 음성이 감지됨\n",
    "        # 최초 음성 감지 전: 5초 동안 무음이 지속되면 종료\n",
    "        if not voice_detected and silent_chunks >= init_silent_chunks:\n",
    "            print(\"녹음 중단됨\")\n",
    "            break\n",
    "        # 음성 감지 후: 1초 동안 무음이 지속되면 종료\n",
    "        if voice_detected and silent_chunks >= post_voice_silent_chunks:\n",
    "            print(\"녹음 중단됨\")\n",
    "            break\n",
    "except KeyboardInterrupt:\n",
    "    print(\"녹음 중단됨\")\n",
    "finally:\n",
    "    # 녹음 종료 및 스트림 닫기\n",
    "    stream.stop_stream()\n",
    "    stream.close()\n",
    "    p.terminate()\n",
    "    \n",
    "    # output 디렉토리 생성\n",
    "    if not os.path.exists(\"output\"):\n",
    "        os.makedirs(\"output\")\n",
    "    \n",
    "    output_filename = \"output/audio.wav\"\n",
    "    # 녹음된 데이터를 WAV 파일로 저장\n",
    "    wf = wave.open(output_filename, 'wb')\n",
    "    wf.setnchannels(CHANNELS)\n",
    "    wf.setsampwidth(p.get_sample_size(FORMAT))\n",
    "    wf.setframerate(RATE)\n",
    "    wf.writeframes(b''.join(frames))\n",
    "    wf.close()# PyAudio 객체 생성\n",
    "p = pyaudio.PyAudio()\n",
    "# 스트림 생성\n",
    "stream = p.open(format=FORMAT,\n",
    "                channels=CHANNELS,\n",
    "                rate=RATE,\n",
    "                input=True,\n",
    "                frames_per_buffer=CHUNK)\n",
    "silent_chunks = 0  # 무음 구간을 측정할 변수\n",
    "voice_detected = False  # 음성이 감지되었는지 여부\n",
    "init_silent_chunks = int((INIT_SILENCE_DURATION_MS / 1000) * RATE / CHUNK)  # 최초 무음 구간 청크 수 계산\n",
    "post_voice_silent_chunks = int((POST_VOICE_SILENCE_DURATION_MS / 1000) * RATE / CHUNK)  # 음성 감지 후 무음 구간 청크 수 계산\n",
    "frames = []  # 녹음된 데이터를 저장할 리스트\n",
    "print(\"음성인식중입니다... (키보드를 누르면 종료)\")\n",
    "try:\n",
    "    while True:\n",
    "        if keyboard.is_pressed('q'):  # 'q' 키를 누르면 녹음 중단\n",
    "            print(\"녹음 중단됨 (키보드 입력)\")\n",
    "            break\n",
    "        data = stream.read(CHUNK)\n",
    "        frames.append(data)\n",
    "        \n",
    "        # 무음 감지를 위한 신호 에너지 계산\n",
    "        audio_data = np.frombuffer(data, dtype=np.int16)  # 데이터를 numpy 배열로 변환\n",
    "        signal_energy = np.abs(audio_data).mean()\n",
    "        if signal_energy < THRESHOLD: \n",
    "            silent_chunks += 1 # 음성 감지 안됨\n",
    "        else:\n",
    "            silent_chunks = 0  # 소리가 있으면 무음 구간 초기화\n",
    "            voice_detected = True  # 음성이 감지됨\n",
    "        # 최초 음성 감지 전: 5초 동안 무음이 지속되면 종료\n",
    "        if not voice_detected and silent_chunks >= init_silent_chunks:\n",
    "            print(\"녹음 중단됨\")\n",
    "            break\n",
    "        # 음성 감지 후: 1초 동안 무음이 지속되면 종료\n",
    "        if voice_detected and silent_chunks >= post_voice_silent_chunks:\n",
    "            print(\"녹음 중단됨\")\n",
    "            break\n",
    "except KeyboardInterrupt:\n",
    "    print(\"녹음 중단됨\")\n",
    "finally:\n",
    "    # 녹음 종료 및 스트림 닫기\n",
    "    stream.stop_stream()\n",
    "    stream.close()\n",
    "    p.terminate()\n",
    "    \n",
    "    # output 디렉토리 생성\n",
    "    if not os.path.exists(\"output\"):\n",
    "        os.makedirs(\"output\")\n",
    "    \n",
    "    output_filename = \"output/audio.wav\"\n",
    "    # 녹음된 데이터를 WAV 파일로 저장\n",
    "    wf = wave.open(output_filename, 'wb')\n",
    "    wf.setnchannels(CHANNELS)\n",
    "    wf.setsampwidth(p.get_sample_size(FORMAT))\n",
    "    wf.setframerate(RATE)\n",
    "    wf.writeframes(b''.join(frames))\n",
    "    wf.close()"
   ]
  },
  {
   "cell_type": "markdown",
   "metadata": {},
   "source": [
    "음성 인식"
   ]
  },
  {
   "cell_type": "code",
   "execution_count": 5,
   "metadata": {},
   "outputs": [
    {
     "name": "stdout",
     "output_type": "stream",
     "text": [
      "인식된 언어 'ko' 일치확률 0.848571\n",
      "[0.00s -> 6.00s]  안녕하세요\n"
     ]
    }
   ],
   "source": [
    "# WAV 파일을 MP3 파일로 변환\n",
    "sound = AudioSegment.from_wav(output_filename)\n",
    "mp3_filename = \"output/audio.mp3\"\n",
    "sound.export(mp3_filename, format=\"mp3\")\n",
    "segments, info = model.transcribe(mp3_filename, beam_size=5)\n",
    "print(\"인식된 언어 '%s' 일치확률 %f\" % (info.language, info.language_probability))\n",
    "for segment in segments:\n",
    "    print(\"[%.2fs -> %.2fs] %s\" % (segment.start, segment.end, segment.text))"
   ]
  }
 ],
 "metadata": {
  "kernelspec": {
   "display_name": "stts",
   "language": "python",
   "name": "python3"
  },
  "language_info": {
   "codemirror_mode": {
    "name": "ipython",
    "version": 3
   },
   "file_extension": ".py",
   "mimetype": "text/x-python",
   "name": "python",
   "nbconvert_exporter": "python",
   "pygments_lexer": "ipython3",
   "version": "3.11.9"
  }
 },
 "nbformat": 4,
 "nbformat_minor": 2
}
