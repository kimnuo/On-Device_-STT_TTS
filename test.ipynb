{
 "cells": [
  {
   "cell_type": "markdown",
   "metadata": {},
   "source": [
    "fast-whisper 테스트"
   ]
  }
 ],
 "metadata": {
  "language_info": {
   "name": "python"
  }
 },
 "nbformat": 4,
 "nbformat_minor": 2
}
